{
 "cells": [
  {
   "cell_type": "code",
   "execution_count": 6,
   "metadata": {},
   "outputs": [],
   "source": [
    "import populartimes as pt"
   ]
  },
  {
   "cell_type": "code",
   "execution_count": 3,
   "metadata": {},
   "outputs": [
    {
     "data": {
      "text/plain": [
       "'hello'"
      ]
     },
     "execution_count": 3,
     "metadata": {},
     "output_type": "execute_result"
    }
   ],
   "source": [
    "pt.dumb_api()"
   ]
  },
  {
   "cell_type": "code",
   "execution_count": 39,
   "metadata": {},
   "outputs": [
    {
     "name": "stdin",
     "output_type": "stream",
     "text": [
      " ·······································\n"
     ]
    }
   ],
   "source": [
    "import getpass\n",
    "\n",
    "API_KEY = getpass.getpass()"
   ]
  },
  {
   "cell_type": "code",
   "execution_count": 40,
   "metadata": {},
   "outputs": [],
   "source": [
    "p1 = (42.366438, -71.299634)\n",
    "p2 = (42.396200, -71.182483)"
   ]
  },
  {
   "cell_type": "code",
   "execution_count": 42,
   "metadata": {},
   "outputs": [
    {
     "name": "stderr",
     "output_type": "stream",
     "text": [
      "Exception in thread Thread-71:\n",
      "Traceback (most recent call last):\n",
      "  File \"/anaconda3/envs/social-distancing/lib/python3.7/threading.py\", line 926, in _bootstrap_inner\n",
      "    self.run()\n",
      "  File \"/anaconda3/envs/social-distancing/lib/python3.7/threading.py\", line 870, in run\n",
      "    self._target(*self._args, **self._kwargs)\n",
      "  File \"/Users/chernandez/Library/Mobile Documents/com~apple~CloudDocs/Projects/social-distancing/populartimes/populartimes/crawler.py\", line 152, in worker_radar\n",
      "    get_radar(item)\n",
      "  File \"/Users/chernandez/Library/Mobile Documents/com~apple~CloudDocs/Projects/social-distancing/populartimes/populartimes/crawler.py\", line 175, in get_radar\n",
      "    check_response_code(resp)\n",
      "  File \"/Users/chernandez/Library/Mobile Documents/com~apple~CloudDocs/Projects/social-distancing/populartimes/populartimes/crawler.py\", line 466, in check_response_code\n",
      "    if resp[\"status\"] == \"REQUEST_DENIED\":\n",
      "populartimes.crawler.PopulartimesException: ('Google Places REQUEST_DENIED', 'Request was denied, the API key is invalid.')\n",
      "\n",
      "Exception in thread Thread-68:\n",
      "Traceback (most recent call last):\n",
      "  File \"/anaconda3/envs/social-distancing/lib/python3.7/threading.py\", line 926, in _bootstrap_inner\n",
      "    self.run()\n",
      "  File \"/anaconda3/envs/social-distancing/lib/python3.7/threading.py\", line 870, in run\n",
      "    self._target(*self._args, **self._kwargs)\n",
      "  File \"/Users/chernandez/Library/Mobile Documents/com~apple~CloudDocs/Projects/social-distancing/populartimes/populartimes/crawler.py\", line 152, in worker_radar\n",
      "    get_radar(item)\n",
      "  File \"/Users/chernandez/Library/Mobile Documents/com~apple~CloudDocs/Projects/social-distancing/populartimes/populartimes/crawler.py\", line 175, in get_radar\n",
      "    check_response_code(resp)\n",
      "  File \"/Users/chernandez/Library/Mobile Documents/com~apple~CloudDocs/Projects/social-distancing/populartimes/populartimes/crawler.py\", line 466, in check_response_code\n",
      "    if resp[\"status\"] == \"REQUEST_DENIED\":\n",
      "populartimes.crawler.PopulartimesException: ('Google Places REQUEST_DENIED', 'Request was denied, the API key is invalid.')\n",
      "\n",
      "Exception in thread Thread-77:\n",
      "Traceback (most recent call last):\n",
      "  File \"/anaconda3/envs/social-distancing/lib/python3.7/threading.py\", line 926, in _bootstrap_inner\n",
      "    self.run()\n",
      "  File \"/anaconda3/envs/social-distancing/lib/python3.7/threading.py\", line 870, in run\n",
      "    self._target(*self._args, **self._kwargs)\n",
      "  File \"/Users/chernandez/Library/Mobile Documents/com~apple~CloudDocs/Projects/social-distancing/populartimes/populartimes/crawler.py\", line 152, in worker_radar\n",
      "    get_radar(item)\n",
      "  File \"/Users/chernandez/Library/Mobile Documents/com~apple~CloudDocs/Projects/social-distancing/populartimes/populartimes/crawler.py\", line 175, in get_radar\n",
      "    check_response_code(resp)\n",
      "  File \"/Users/chernandez/Library/Mobile Documents/com~apple~CloudDocs/Projects/social-distancing/populartimes/populartimes/crawler.py\", line 466, in check_response_code\n",
      "    if resp[\"status\"] == \"REQUEST_DENIED\":\n",
      "populartimes.crawler.PopulartimesException: ('Google Places REQUEST_DENIED', 'Request was denied, the API key is invalid.')\n",
      "\n",
      "Exception in thread Thread-78:\n",
      "Traceback (most recent call last):\n",
      "  File \"/anaconda3/envs/social-distancing/lib/python3.7/threading.py\", line 926, in _bootstrap_inner\n",
      "    self.run()\n",
      "  File \"/anaconda3/envs/social-distancing/lib/python3.7/threading.py\", line 870, in run\n",
      "    self._target(*self._args, **self._kwargs)\n",
      "  File \"/Users/chernandez/Library/Mobile Documents/com~apple~CloudDocs/Projects/social-distancing/populartimes/populartimes/crawler.py\", line 152, in worker_radar\n",
      "    get_radar(item)\n",
      "  File \"/Users/chernandez/Library/Mobile Documents/com~apple~CloudDocs/Projects/social-distancing/populartimes/populartimes/crawler.py\", line 175, in get_radar\n",
      "    check_response_code(resp)\n",
      "  File \"/Users/chernandez/Library/Mobile Documents/com~apple~CloudDocs/Projects/social-distancing/populartimes/populartimes/crawler.py\", line 466, in check_response_code\n",
      "    if resp[\"status\"] == \"REQUEST_DENIED\":\n",
      "populartimes.crawler.PopulartimesException: ('Google Places REQUEST_DENIED', 'Request was denied, the API key is invalid.')\n",
      "\n",
      "Exception in thread Thread-65:\n",
      "Traceback (most recent call last):\n",
      "  File \"/anaconda3/envs/social-distancing/lib/python3.7/threading.py\", line 926, in _bootstrap_inner\n",
      "    self.run()\n",
      "  File \"/anaconda3/envs/social-distancing/lib/python3.7/threading.py\", line 870, in run\n",
      "    self._target(*self._args, **self._kwargs)\n",
      "  File \"/Users/chernandez/Library/Mobile Documents/com~apple~CloudDocs/Projects/social-distancing/populartimes/populartimes/crawler.py\", line 152, in worker_radar\n",
      "    get_radar(item)\n",
      "  File \"/Users/chernandez/Library/Mobile Documents/com~apple~CloudDocs/Projects/social-distancing/populartimes/populartimes/crawler.py\", line 175, in get_radar\n",
      "    check_response_code(resp)\n",
      "  File \"/Users/chernandez/Library/Mobile Documents/com~apple~CloudDocs/Projects/social-distancing/populartimes/populartimes/crawler.py\", line 466, in check_response_code\n",
      "    if resp[\"status\"] == \"REQUEST_DENIED\":\n",
      "populartimes.crawler.PopulartimesException: ('Google Places REQUEST_DENIED', 'Request was denied, the API key is invalid.')\n",
      "\n",
      "Exception in thread Thread-67:\n",
      "Traceback (most recent call last):\n",
      "  File \"/anaconda3/envs/social-distancing/lib/python3.7/threading.py\", line 926, in _bootstrap_inner\n",
      "    self.run()\n",
      "  File \"/anaconda3/envs/social-distancing/lib/python3.7/threading.py\", line 870, in run\n",
      "    self._target(*self._args, **self._kwargs)\n",
      "  File \"/Users/chernandez/Library/Mobile Documents/com~apple~CloudDocs/Projects/social-distancing/populartimes/populartimes/crawler.py\", line 152, in worker_radar\n",
      "    get_radar(item)\n",
      "  File \"/Users/chernandez/Library/Mobile Documents/com~apple~CloudDocs/Projects/social-distancing/populartimes/populartimes/crawler.py\", line 175, in get_radar\n",
      "    check_response_code(resp)\n",
      "  File \"/Users/chernandez/Library/Mobile Documents/com~apple~CloudDocs/Projects/social-distancing/populartimes/populartimes/crawler.py\", line 466, in check_response_code\n",
      "    if resp[\"status\"] == \"REQUEST_DENIED\":\n",
      "populartimes.crawler.PopulartimesException: ('Google Places REQUEST_DENIED', 'Request was denied, the API key is invalid.')\n",
      "\n"
     ]
    },
    {
     "ename": "KeyboardInterrupt",
     "evalue": "",
     "output_type": "error",
     "traceback": [
      "\u001b[0;31m---------------------------------------------------------------------------\u001b[0m",
      "\u001b[0;31mKeyboardInterrupt\u001b[0m                         Traceback (most recent call last)",
      "\u001b[0;32m<ipython-input-42-2eae58d8c180>\u001b[0m in \u001b[0;36m<module>\u001b[0;34m\u001b[0m\n\u001b[0;32m----> 1\u001b[0;31m \u001b[0mvals\u001b[0m \u001b[0;34m=\u001b[0m \u001b[0mpopulartimes\u001b[0m\u001b[0;34m.\u001b[0m\u001b[0mget\u001b[0m\u001b[0;34m(\u001b[0m\u001b[0mAPI_KEY\u001b[0m\u001b[0;34m,\u001b[0m \u001b[0;34m[\u001b[0m\u001b[0;34m\"supermarket\"\u001b[0m\u001b[0;34m]\u001b[0m\u001b[0;34m,\u001b[0m \u001b[0mp1\u001b[0m\u001b[0;34m,\u001b[0m \u001b[0mp2\u001b[0m\u001b[0;34m)\u001b[0m\u001b[0;34m\u001b[0m\u001b[0;34m\u001b[0m\u001b[0m\n\u001b[0m",
      "\u001b[0;32m~/Library/Mobile Documents/com~apple~CloudDocs/Projects/social-distancing/populartimes/populartimes/__init__.py\u001b[0m in \u001b[0;36mget\u001b[0;34m(api_key, types, p1, p2, n_threads, radius, all_places)\u001b[0m\n\u001b[1;32m     44\u001b[0m     }\n\u001b[1;32m     45\u001b[0m \u001b[0;34m\u001b[0m\u001b[0m\n\u001b[0;32m---> 46\u001b[0;31m     \u001b[0;32mreturn\u001b[0m \u001b[0mrun\u001b[0m\u001b[0;34m(\u001b[0m\u001b[0mparams\u001b[0m\u001b[0;34m)\u001b[0m\u001b[0;34m\u001b[0m\u001b[0;34m\u001b[0m\u001b[0m\n\u001b[0m\u001b[1;32m     47\u001b[0m \u001b[0;34m\u001b[0m\u001b[0m\n\u001b[1;32m     48\u001b[0m \u001b[0;34m\u001b[0m\u001b[0m\n",
      "\u001b[0;32m~/Library/Mobile Documents/com~apple~CloudDocs/Projects/social-distancing/populartimes/populartimes/crawler.py\u001b[0m in \u001b[0;36mrun\u001b[0;34m(_params)\u001b[0m\n\u001b[1;32m    519\u001b[0m                                        \u001b[0;34m[\u001b[0m\u001b[0mbounds\u001b[0m\u001b[0;34m[\u001b[0m\u001b[0;34m\"upper\"\u001b[0m\u001b[0;34m]\u001b[0m\u001b[0;34m[\u001b[0m\u001b[0;34m\"lat\"\u001b[0m\u001b[0;34m]\u001b[0m\u001b[0;34m,\u001b[0m \u001b[0mbounds\u001b[0m\u001b[0;34m[\u001b[0m\u001b[0;34m\"upper\"\u001b[0m\u001b[0;34m]\u001b[0m\u001b[0;34m[\u001b[0m\u001b[0;34m\"lng\"\u001b[0m\u001b[0;34m]\u001b[0m\u001b[0;34m]\u001b[0m\u001b[0;34m,\u001b[0m  \u001b[0;31m# northeast\u001b[0m\u001b[0;34m\u001b[0m\u001b[0;34m\u001b[0m\u001b[0m\n\u001b[1;32m    520\u001b[0m                                        params[\"radius\"]):\n\u001b[0;32m--> 521\u001b[0;31m         \u001b[0mq_radar\u001b[0m\u001b[0;34m.\u001b[0m\u001b[0mput\u001b[0m\u001b[0;34m(\u001b[0m\u001b[0mdict\u001b[0m\u001b[0;34m(\u001b[0m\u001b[0mpos\u001b[0m\u001b[0;34m=\u001b[0m\u001b[0;34m(\u001b[0m\u001b[0mlat\u001b[0m\u001b[0;34m,\u001b[0m \u001b[0mlng\u001b[0m\u001b[0;34m)\u001b[0m\u001b[0;34m,\u001b[0m \u001b[0mres\u001b[0m\u001b[0;34m=\u001b[0m\u001b[0;36m0\u001b[0m\u001b[0;34m)\u001b[0m\u001b[0;34m)\u001b[0m\u001b[0;34m\u001b[0m\u001b[0;34m\u001b[0m\u001b[0m\n\u001b[0m\u001b[1;32m    522\u001b[0m \u001b[0;34m\u001b[0m\u001b[0m\n\u001b[1;32m    523\u001b[0m     \u001b[0mq_radar\u001b[0m\u001b[0;34m.\u001b[0m\u001b[0mjoin\u001b[0m\u001b[0;34m(\u001b[0m\u001b[0;34m)\u001b[0m\u001b[0;34m\u001b[0m\u001b[0;34m\u001b[0m\u001b[0m\n",
      "\u001b[0;32m/anaconda3/envs/social-distancing/lib/python3.7/queue.py\u001b[0m in \u001b[0;36mjoin\u001b[0;34m(self)\u001b[0m\n\u001b[1;32m     87\u001b[0m         \u001b[0;32mwith\u001b[0m \u001b[0mself\u001b[0m\u001b[0;34m.\u001b[0m\u001b[0mall_tasks_done\u001b[0m\u001b[0;34m:\u001b[0m\u001b[0;34m\u001b[0m\u001b[0;34m\u001b[0m\u001b[0m\n\u001b[1;32m     88\u001b[0m             \u001b[0;32mwhile\u001b[0m \u001b[0mself\u001b[0m\u001b[0;34m.\u001b[0m\u001b[0munfinished_tasks\u001b[0m\u001b[0;34m:\u001b[0m\u001b[0;34m\u001b[0m\u001b[0;34m\u001b[0m\u001b[0m\n\u001b[0;32m---> 89\u001b[0;31m                 \u001b[0mself\u001b[0m\u001b[0;34m.\u001b[0m\u001b[0mall_tasks_done\u001b[0m\u001b[0;34m.\u001b[0m\u001b[0mwait\u001b[0m\u001b[0;34m(\u001b[0m\u001b[0;34m)\u001b[0m\u001b[0;34m\u001b[0m\u001b[0;34m\u001b[0m\u001b[0m\n\u001b[0m\u001b[1;32m     90\u001b[0m \u001b[0;34m\u001b[0m\u001b[0m\n\u001b[1;32m     91\u001b[0m     \u001b[0;32mdef\u001b[0m \u001b[0mqsize\u001b[0m\u001b[0;34m(\u001b[0m\u001b[0mself\u001b[0m\u001b[0;34m)\u001b[0m\u001b[0;34m:\u001b[0m\u001b[0;34m\u001b[0m\u001b[0;34m\u001b[0m\u001b[0m\n",
      "\u001b[0;32m/anaconda3/envs/social-distancing/lib/python3.7/threading.py\u001b[0m in \u001b[0;36mwait\u001b[0;34m(self, timeout)\u001b[0m\n\u001b[1;32m    294\u001b[0m         \u001b[0;32mtry\u001b[0m\u001b[0;34m:\u001b[0m    \u001b[0;31m# restore state no matter what (e.g., KeyboardInterrupt)\u001b[0m\u001b[0;34m\u001b[0m\u001b[0;34m\u001b[0m\u001b[0m\n\u001b[1;32m    295\u001b[0m             \u001b[0;32mif\u001b[0m \u001b[0mtimeout\u001b[0m \u001b[0;32mis\u001b[0m \u001b[0;32mNone\u001b[0m\u001b[0;34m:\u001b[0m\u001b[0;34m\u001b[0m\u001b[0;34m\u001b[0m\u001b[0m\n\u001b[0;32m--> 296\u001b[0;31m                 \u001b[0mwaiter\u001b[0m\u001b[0;34m.\u001b[0m\u001b[0macquire\u001b[0m\u001b[0;34m(\u001b[0m\u001b[0;34m)\u001b[0m\u001b[0;34m\u001b[0m\u001b[0;34m\u001b[0m\u001b[0m\n\u001b[0m\u001b[1;32m    297\u001b[0m                 \u001b[0mgotit\u001b[0m \u001b[0;34m=\u001b[0m \u001b[0;32mTrue\u001b[0m\u001b[0;34m\u001b[0m\u001b[0;34m\u001b[0m\u001b[0m\n\u001b[1;32m    298\u001b[0m             \u001b[0;32melse\u001b[0m\u001b[0;34m:\u001b[0m\u001b[0;34m\u001b[0m\u001b[0;34m\u001b[0m\u001b[0m\n",
      "\u001b[0;31mKeyboardInterrupt\u001b[0m: "
     ]
    }
   ],
   "source": [
    "vals = populartimes.get(API_KEY, [\"supermarket\"], p1, p2)"
   ]
  },
  {
   "cell_type": "code",
   "execution_count": 13,
   "metadata": {},
   "outputs": [
    {
     "ename": "NameError",
     "evalue": "name 'latitudes' is not defined",
     "output_type": "error",
     "traceback": [
      "\u001b[0;31m---------------------------------------------------------------------------\u001b[0m",
      "\u001b[0;31mNameError\u001b[0m                                 Traceback (most recent call last)",
      "\u001b[0;32m<ipython-input-13-a99fdc3d2b17>\u001b[0m in \u001b[0;36m<module>\u001b[0;34m\u001b[0m\n\u001b[1;32m      3\u001b[0m \u001b[0mgmap\u001b[0m \u001b[0;34m=\u001b[0m \u001b[0mgmplot\u001b[0m\u001b[0;34m.\u001b[0m\u001b[0mGoogleMapPlotter\u001b[0m\u001b[0;34m(\u001b[0m\u001b[0;36m37.428\u001b[0m\u001b[0;34m,\u001b[0m \u001b[0;34m-\u001b[0m\u001b[0;36m122.145\u001b[0m\u001b[0;34m,\u001b[0m \u001b[0;36m16\u001b[0m\u001b[0;34m)\u001b[0m\u001b[0;34m\u001b[0m\u001b[0;34m\u001b[0m\u001b[0m\n\u001b[1;32m      4\u001b[0m \u001b[0;34m\u001b[0m\u001b[0m\n\u001b[0;32m----> 5\u001b[0;31m \u001b[0mgmap\u001b[0m\u001b[0;34m.\u001b[0m\u001b[0mplot\u001b[0m\u001b[0;34m(\u001b[0m\u001b[0mlatitudes\u001b[0m\u001b[0;34m,\u001b[0m \u001b[0mlongitudes\u001b[0m\u001b[0;34m,\u001b[0m \u001b[0;34m'cornflowerblue'\u001b[0m\u001b[0;34m,\u001b[0m \u001b[0medge_width\u001b[0m\u001b[0;34m=\u001b[0m\u001b[0;36m10\u001b[0m\u001b[0;34m)\u001b[0m\u001b[0;34m\u001b[0m\u001b[0;34m\u001b[0m\u001b[0m\n\u001b[0m\u001b[1;32m      6\u001b[0m \u001b[0mgmap\u001b[0m\u001b[0;34m.\u001b[0m\u001b[0mscatter\u001b[0m\u001b[0;34m(\u001b[0m\u001b[0mmore_lats\u001b[0m\u001b[0;34m,\u001b[0m \u001b[0mmore_lngs\u001b[0m\u001b[0;34m,\u001b[0m \u001b[0;34m'#3B0B39'\u001b[0m\u001b[0;34m,\u001b[0m \u001b[0msize\u001b[0m\u001b[0;34m=\u001b[0m\u001b[0;36m40\u001b[0m\u001b[0;34m,\u001b[0m \u001b[0mmarker\u001b[0m\u001b[0;34m=\u001b[0m\u001b[0;32mFalse\u001b[0m\u001b[0;34m)\u001b[0m\u001b[0;34m\u001b[0m\u001b[0;34m\u001b[0m\u001b[0m\n\u001b[1;32m      7\u001b[0m \u001b[0mgmap\u001b[0m\u001b[0;34m.\u001b[0m\u001b[0mscatter\u001b[0m\u001b[0;34m(\u001b[0m\u001b[0mmarker_lats\u001b[0m\u001b[0;34m,\u001b[0m \u001b[0mmarker_lngs\u001b[0m\u001b[0;34m,\u001b[0m \u001b[0;34m'k'\u001b[0m\u001b[0;34m,\u001b[0m \u001b[0mmarker\u001b[0m\u001b[0;34m=\u001b[0m\u001b[0;32mTrue\u001b[0m\u001b[0;34m)\u001b[0m\u001b[0;34m\u001b[0m\u001b[0;34m\u001b[0m\u001b[0m\n",
      "\u001b[0;31mNameError\u001b[0m: name 'latitudes' is not defined"
     ]
    }
   ],
   "source": [
    "import gmplot\n",
    "\n",
    "gmap = gmplot.GoogleMapPlotter(37.428, -122.145, 16)\n",
    "\n",
    "gmap.plot(latitudes, longitudes, 'cornflowerblue', edge_width=10)\n",
    "gmap.scatter(more_lats, more_lngs, '#3B0B39', size=40, marker=False)\n",
    "gmap.scatter(marker_lats, marker_lngs, 'k', marker=True)\n",
    "gmap.heatmap(heat_lats, heat_lngs)\n",
    "\n",
    "gmap.draw(\"mymap.html\")"
   ]
  },
  {
   "cell_type": "code",
   "execution_count": null,
   "metadata": {},
   "outputs": [],
   "source": [
    "def heatmap(self, lats, lngs, threshold=10, radius=10, gradient=None, opacity=0.6, maxIntensity=1, dissipating=True):"
   ]
  },
  {
   "cell_type": "code",
   "execution_count": 37,
   "metadata": {},
   "outputs": [],
   "source": [
    "lats = []\n",
    "lons = []\n",
    "pops = []\n",
    "\n",
    "for val in vals:\n",
    "    lat = val.get('coordinates').get('lat')\n",
    "    lon = val.get('coordinates').get('lng')\n",
    "    pop = val.get('current_popularity')\n",
    "    \n",
    "    lats.append(lat)\n",
    "    lons.append(lon)\n",
    "    pops.append(pop)"
   ]
  },
  {
   "cell_type": "code",
   "execution_count": 38,
   "metadata": {},
   "outputs": [
    {
     "data": {
      "text/plain": [
       "([42.3689951,\n",
       "  42.3753196,\n",
       "  42.370796,\n",
       "  42.38105400000001,\n",
       "  42.370736,\n",
       "  42.37098140000001,\n",
       "  42.375994],\n",
       " [-71.2371249,\n",
       "  -71.2342898,\n",
       "  -71.2335344,\n",
       "  -71.262846,\n",
       "  -71.23731049999999,\n",
       "  -71.2373279,\n",
       "  -71.23727939999999],\n",
       " [None, 59, None, 65, 64, 51, None])"
      ]
     },
     "execution_count": 38,
     "metadata": {},
     "output_type": "execute_result"
    }
   ],
   "source": [
    "lats, lons, pops"
   ]
  },
  {
   "cell_type": "code",
   "execution_count": 34,
   "metadata": {},
   "outputs": [],
   "source": [
    "gmap = gmplot.GoogleMapPlotter(42.3765, -71.2356, 100, apikey=API_KEY)\n",
    "gmap.heatmap(lats, lons)\n",
    "gmap.draw(\"mymap.html\")"
   ]
  },
  {
   "cell_type": "code",
   "execution_count": 15,
   "metadata": {},
   "outputs": [],
   "source": [
    "from gmplot import gmplot\n",
    "\n",
    "# Place map\n",
    "gmap = gmplot.GoogleMapPlotter(37.766956, -122.438481, 13)\n",
    "\n",
    "# Polygon\n",
    "golden_gate_park_lats, golden_gate_park_lons = zip(*[\n",
    "    (37.771269, -122.511015),\n",
    "    (37.773495, -122.464830),\n",
    "    (37.774797, -122.454538),\n",
    "    (37.771988, -122.454018),\n",
    "    (37.773646, -122.440979),\n",
    "    (37.772742, -122.440797),\n",
    "    (37.771096, -122.453889),\n",
    "    (37.768669, -122.453518),\n",
    "    (37.766227, -122.460213),\n",
    "    (37.764028, -122.510347),\n",
    "    (37.771269, -122.511015)\n",
    "    ])\n",
    "gmap.plot(golden_gate_park_lats, golden_gate_park_lons, 'cornflowerblue', edge_width=10)\n",
    "\n",
    "# Scatter points\n",
    "top_attraction_lats, top_attraction_lons = zip(*[\n",
    "    (37.769901, -122.498331),\n",
    "    (37.768645, -122.475328),\n",
    "    (37.771478, -122.468677),\n",
    "    (37.769867, -122.466102),\n",
    "    (37.767187, -122.467496),\n",
    "    (37.770104, -122.470436)\n",
    "    ])\n",
    "gmap.scatter(top_attraction_lats, top_attraction_lons, '#3B0B39', size=40, marker=False)\n",
    "\n",
    "# Marker\n",
    "hidden_gem_lat, hidden_gem_lon = 37.770776, -122.461689\n",
    "gmap.marker(hidden_gem_lat, hidden_gem_lon, 'cornflowerblue')\n",
    "\n",
    "# Draw\n",
    "gmap.draw(\"my_map.html\")"
   ]
  },
  {
   "cell_type": "code",
   "execution_count": 16,
   "metadata": {},
   "outputs": [
    {
     "data": {
      "text/plain": [
       "<gmplot.gmplot.GoogleMapPlotter at 0x10827a8d0>"
      ]
     },
     "execution_count": 16,
     "metadata": {},
     "output_type": "execute_result"
    }
   ],
   "source": [
    "gmap"
   ]
  },
  {
   "cell_type": "code",
   "execution_count": null,
   "metadata": {},
   "outputs": [],
   "source": []
  }
 ],
 "metadata": {
  "kernelspec": {
   "display_name": "Python 3",
   "language": "python",
   "name": "python3"
  },
  "language_info": {
   "codemirror_mode": {
    "name": "ipython",
    "version": 3
   },
   "file_extension": ".py",
   "mimetype": "text/x-python",
   "name": "python",
   "nbconvert_exporter": "python",
   "pygments_lexer": "ipython3",
   "version": "3.7.7"
  }
 },
 "nbformat": 4,
 "nbformat_minor": 4
}
