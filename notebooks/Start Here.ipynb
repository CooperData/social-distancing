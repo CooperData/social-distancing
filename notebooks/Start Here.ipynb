{
 "cells": [
  {
   "cell_type": "code",
   "execution_count": 1,
   "metadata": {},
   "outputs": [],
   "source": [
    "%load_ext autoreload\n",
    "%autoreload 2"
   ]
  },
  {
   "cell_type": "code",
   "execution_count": 29,
   "metadata": {},
   "outputs": [],
   "source": [
    "import populartimes\n",
    "import dotenv\n",
    "import os\n",
    "import json\n",
    "import gmplot"
   ]
  },
  {
   "cell_type": "code",
   "execution_count": 3,
   "metadata": {},
   "outputs": [],
   "source": [
    "%load_ext dotenv\n",
    "%dotenv"
   ]
  },
  {
   "cell_type": "markdown",
   "metadata": {},
   "source": [
    "Make sure to load the key, if you dont have a key, you can run the example without passing True to the def."
   ]
  },
  {
   "cell_type": "code",
   "execution_count": 18,
   "metadata": {},
   "outputs": [],
   "source": [
    "API_KEY = os.getenv(\"API_KEY\")"
   ]
  },
  {
   "cell_type": "code",
   "execution_count": 22,
   "metadata": {},
   "outputs": [],
   "source": [
    "def get_sample_data(using_api=False):\n",
    "    if using_api:\n",
    "        p1 = (42.366438, -71.299634)\n",
    "        p2 = (42.396200, -71.182483)\n",
    "        supermarkets = populartimes.get(API_KEY, [\"supermarket\"], p1, p2)\n",
    "    else:\n",
    "        with open('../data/supermarket_data.json') as json_file:\n",
    "            supermarkets = json.load(json_file)\n",
    "    return supermarkets"
   ]
  },
  {
   "cell_type": "code",
   "execution_count": 23,
   "metadata": {},
   "outputs": [],
   "source": [
    "supermarkets_waltham = get_sample_data() # pass True to test the key but dont overuse it "
   ]
  },
  {
   "cell_type": "code",
   "execution_count": 24,
   "metadata": {},
   "outputs": [
    {
     "name": "stdout",
     "output_type": "stream",
     "text": [
      "Despensa Familiar ChIJ9ddxxdaC44kRTWYavd2ERWo 41\n",
      "Azteca Market ChIJ4YI6JdqC44kRaNFbxc1zjmU None\n",
      "Brothers Marketplace - Waltham ChIJLdiDANeC44kRZsCLiUXVEts None\n",
      "La Chapincita Market ChIJ8ywS19iC44kRDa426D4rVoY None\n",
      "Market Basket ChIJucjbPDaD44kR4DYRM1ZdLUI 51\n",
      "Family Dollar ChIJMRwFVdiC44kR41lwaGIBRG8 22\n",
      "Waltham India Market ChIJf6z5_tiC44kRH2wj-n_2tOU 20\n"
     ]
    }
   ],
   "source": [
    "for supermarket in supermarkets_waltham:\n",
    "    print(supermarket.get('name'), supermarket.get('id'), supermarket.get('current_popularity'))"
   ]
  },
  {
   "cell_type": "code",
   "execution_count": 25,
   "metadata": {},
   "outputs": [
    {
     "data": {
      "text/plain": [
       "list"
      ]
     },
     "execution_count": 25,
     "metadata": {},
     "output_type": "execute_result"
    }
   ],
   "source": [
    "type(supermarkets)"
   ]
  },
  {
   "cell_type": "code",
   "execution_count": 27,
   "metadata": {},
   "outputs": [],
   "source": [
    "lats = []\n",
    "lons = []\n",
    "pops = []\n",
    "\n",
    "for supermarket in supermarkets:\n",
    "    lat = supermarket.get('coordinates').get('lat')\n",
    "    lon = supermarket.get('coordinates').get('lng')\n",
    "    pop = supermarket.get('current_popularity')\n",
    "    \n",
    "    lats.append(lat)\n",
    "    lons.append(lon)\n",
    "    pops.append(pop)"
   ]
  },
  {
   "cell_type": "markdown",
   "metadata": {},
   "source": [
    "## Plotting\n",
    "This will output a file to the notebooks dir. This file wont be added to GIT as it contains the API_KEY."
   ]
  },
  {
   "cell_type": "code",
   "execution_count": 30,
   "metadata": {},
   "outputs": [],
   "source": [
    "gmap = gmplot.GoogleMapPlotter(42.3765, -71.2356, 100, apikey=API_KEY)\n",
    "gmap.heatmap(lats, lons)\n",
    "gmap.draw(\"waltham_supermarkets.html\")"
   ]
  },
  {
   "cell_type": "code",
   "execution_count": null,
   "metadata": {},
   "outputs": [],
   "source": []
  }
 ],
 "metadata": {
  "kernelspec": {
   "display_name": "Python 3",
   "language": "python",
   "name": "python3"
  },
  "language_info": {
   "codemirror_mode": {
    "name": "ipython",
    "version": 3
   },
   "file_extension": ".py",
   "mimetype": "text/x-python",
   "name": "python",
   "nbconvert_exporter": "python",
   "pygments_lexer": "ipython3",
   "version": "3.7.7"
  }
 },
 "nbformat": 4,
 "nbformat_minor": 4
}
